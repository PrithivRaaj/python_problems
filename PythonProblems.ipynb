{
  "nbformat": 4,
  "nbformat_minor": 0,
  "metadata": {
    "colab": {
      "provenance": [],
      "authorship_tag": "ABX9TyN5mCakIJILv9BBaTNTYorQ",
      "include_colab_link": true
    },
    "kernelspec": {
      "name": "python3",
      "display_name": "Python 3"
    },
    "language_info": {
      "name": "python"
    }
  },
  "cells": [
    {
      "cell_type": "markdown",
      "metadata": {
        "id": "view-in-github",
        "colab_type": "text"
      },
      "source": [
        "<a href=\"https://colab.research.google.com/github/PrithivRaaj/python_problems/blob/main/PythonProblems.ipynb\" target=\"_parent\"><img src=\"https://colab.research.google.com/assets/colab-badge.svg\" alt=\"Open In Colab\"/></a>"
      ]
    },
    {
      "cell_type": "markdown",
      "source": [
        "Jug Mug Pug"
      ],
      "metadata": {
        "id": "OITVD-t6Sq4f"
      }
    },
    {
      "cell_type": "code",
      "execution_count": 6,
      "metadata": {
        "id": "8QtzhbHqR-CI",
        "colab": {
          "base_uri": "https://localhost:8080/"
        },
        "outputId": "5bdcc96b-8c6a-4f4a-c1ef-937849751202"
      },
      "outputs": [
        {
          "output_type": "stream",
          "name": "stdout",
          "text": [
            "8\n",
            "8\n"
          ]
        }
      ],
      "source": [
        "num=int(input())\n",
        "if num%3==0 or '3' in str(num):\n",
        "  print(\"Jugs\")\n",
        "if num%5==0 or '5' in str(num):\n",
        "  print(\"Mugs\")\n",
        "if num%7==0 or '7' in str(num):\n",
        "  print(\"Pugs\")\n",
        "else:\n",
        "  print(num)\n"
      ]
    },
    {
      "cell_type": "code",
      "source": [
        "num=int(input())\n",
        "if num%3==0 and num%5==0 and num%7==0:\n",
        "  print(\"JugsMugsPugs\")\n",
        "elif num%7==0 and num%3==0:\n",
        "  print(\"JugsPugs\")\n",
        "elif num%5==0 and num%7==0:\n",
        "  print(\"MugsPugs\")\n",
        "elif num%3==0 and num%5==0:\n",
        "  print(\"JugsMugs\")\n",
        "elif num%7==0:\n",
        "  print(\"Pugs\")\n",
        "elif num%5==0:\n",
        "  print(\"Mugs\")\n",
        "elif num%3==0:\n",
        "  print(\"Jugs\")\n",
        "else:\n",
        "  print(num)"
      ],
      "metadata": {
        "id": "ylZpTEp9SlXP",
        "colab": {
          "base_uri": "https://localhost:8080/"
        },
        "outputId": "879052c8-8fac-40bb-cf3b-66bbd5c96ccc"
      },
      "execution_count": 9,
      "outputs": [
        {
          "output_type": "stream",
          "name": "stdout",
          "text": [
            "35\n",
            "MugsPugs\n"
          ]
        }
      ]
    },
    {
      "cell_type": "code",
      "source": [
        "n = int(input())\n",
        "list1 = [3,5,7]\n",
        "list2 = [\"Jugs\",\"Mugs\",\"Pugs\"]\n",
        "for i in list1:\n",
        "    if n%i==0:\n",
        "        a = list1.index(i)\n",
        "        print(list2[a],end=\" \")"
      ],
      "metadata": {
        "colab": {
          "base_uri": "https://localhost:8080/"
        },
        "id": "Yaq0G1VOTi0I",
        "outputId": "ab3e4fb0-ab30-4bae-f325-899a9c1dbd0b"
      },
      "execution_count": 10,
      "outputs": [
        {
          "output_type": "stream",
          "name": "stdout",
          "text": [
            "105\n",
            "Jugs Mugs Pugs "
          ]
        }
      ]
    }
  ]
}